{
 "cells": [
  {
   "cell_type": "markdown",
   "metadata": {},
   "source": [
    "# Homework 3, Bayu Wilson\n",
    "#### Due: Thursday, 11:59pm, Feb 1st, 2018\n",
    "\n",
    "Some command mode shortcuts\n",
    "\n",
    "a: Create a new cell above the current one\n",
    "\n",
    "b: Create a new cell below the current one\n",
    "\n",
    "m: Change cell type to Markdown\n",
    "\n",
    "y: Change cell type to Code\n",
    "\n",
    "c: Copy selected cell(s)\n",
    "\n",
    "x: Cut selected cell(s)\n",
    "\n",
    "v: Paste selected cell(s)\n",
    "\n",
    "d d: Delete selected cell(s)\n",
    "\n",
    "z: Undo cell deletion"
   ]
  },
  {
   "cell_type": "markdown",
   "metadata": {},
   "source": [
    "### Typical Research/Analysis Workflow\n",
    "\n",
    "1) Write a brief explanation about what you're trying to do, and your chosen approach (the goal and hypothesis).\n",
    "\n",
    "2) Write some code to implement the analysis, look at the plots, modify your approach, try again...\n",
    "\n",
    "3) When you've made some tangible progress (e.g., resolved one piece of analysis), go back and clean up your notebook.\n",
    "\n",
    "    A. Refactor: Rework the code to reduce duplication, moving some of it into a separate module (remember: look at reusability and complexity).\n",
    "    \n",
    "    B. Document: Enhance the documentation\n",
    "\t\n",
    "    C. Explain: Write a longer narrative about what you've done, so that the notebook can almost be read by someone not intimately familiar with the work.\n",
    "\n",
    "4) Go back to #1 until your entire project is done!"
   ]
  },
  {
   "cell_type": "markdown",
   "metadata": {},
   "source": [
    "# Interactive Hess diagram\n",
    "\n",
    "A [Hess diagram](https://en.wikipedia.org/wiki/Hess_diagram) is a plot that represents the density of stars occuring at different locations on a color-magnitude diagram. Some motivations for making a Hess diagram would bein the analysis of resolved stellar systems in globular clusters.\n",
    "\n",
    "The stellar data is in the file `fieldA.csv`. General useful functions are in `utils.py`. The functions useful only for this particular project are in `visutils.py`. `load_and_prepare_cmd.py` will load in my data to the notebook. `interactive_hess.py` generates an interactive Hess diagram."
   ]
  },
  {
   "cell_type": "code",
   "execution_count": 1,
   "metadata": {},
   "outputs": [],
   "source": [
    "from visutils import * #load_and_prepare_cmd & interactive_hess"
   ]
  },
  {
   "cell_type": "code",
   "execution_count": 2,
   "metadata": {},
   "outputs": [
    {
     "data": {
      "application/vnd.jupyter.widget-view+json": {
       "model_id": "7a6dda23be364d8881a4d60c0832875d",
       "version_major": 2,
       "version_minor": 0
      },
      "text/html": [
       "<p>Failed to display Jupyter Widget of type <code>interactive</code>.</p>\n",
       "<p>\n",
       "  If you're reading this message in the Jupyter Notebook or JupyterLab Notebook, it may mean\n",
       "  that the widgets JavaScript is still loading. If this message persists, it\n",
       "  likely means that the widgets JavaScript library is either not installed or\n",
       "  not enabled. See the <a href=\"https://ipywidgets.readthedocs.io/en/stable/user_install.html\">Jupyter\n",
       "  Widgets Documentation</a> for setup instructions.\n",
       "</p>\n",
       "<p>\n",
       "  If you're reading this message in another frontend (for example, a static\n",
       "  rendering on GitHub or <a href=\"https://nbviewer.jupyter.org/\">NBViewer</a>),\n",
       "  it may mean that your frontend doesn't currently support widgets.\n",
       "</p>\n"
      ],
      "text/plain": [
       "interactive(children=(IntSlider(value=100, description='size', max=300, min=50), Output()), _dom_classes=('widget-interact',))"
      ]
     },
     "metadata": {},
     "output_type": "display_data"
    }
   ],
   "source": [
    "gr,g = load_and_prepare_cmd(\"fieldA.csv\")\n",
    "interactive_hess(gr,g)"
   ]
  },
  {
   "cell_type": "code",
   "execution_count": null,
   "metadata": {
    "collapsed": true
   },
   "outputs": [],
   "source": []
  }
 ],
 "metadata": {
  "anaconda-cloud": {},
  "kernelspec": {
   "display_name": "Python [default]",
   "language": "python",
   "name": "python3"
  },
  "language_info": {
   "codemirror_mode": {
    "name": "ipython",
    "version": 3
   },
   "file_extension": ".py",
   "mimetype": "text/x-python",
   "name": "python",
   "nbconvert_exporter": "python",
   "pygments_lexer": "ipython3",
   "version": "3.5.2"
  }
 },
 "nbformat": 4,
 "nbformat_minor": 2
}
